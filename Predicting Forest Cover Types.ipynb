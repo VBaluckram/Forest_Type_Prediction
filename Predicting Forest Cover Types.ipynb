{
 "cells": [
  {
   "cell_type": "markdown",
   "metadata": {},
   "source": [
    "# <center> Predicting Forest Cover Types </center>"
   ]
  },
  {
   "cell_type": "markdown",
   "metadata": {},
   "source": [
    "## Introduction\n",
    "\n",
    "This notebook is to process data provided by PrecisionGx for their technical assignment. The aim will be to predict between these two types of forest covers:\n",
    "* Spruce/Fir = 0\n",
    "* Lodgepole Pine = 1'\n",
    "\n",
    "Because there are only two labels, they have been stored in binary format as shown above. We were also given the following information:\n",
    "* \"We have collapsed the original 40 binary columns for soil type down to one column Soil_Type\"\n",
    "* \"We have collapsed the original 4 binary columns for wilderness area down to one column Wilderness_Area\"\n",
    "\n",
    "Quickly glancing through the the original data source, we find the following regarding the size of the data set and the original features:\n",
    "* Number of instances (observations):  581,012\n",
    "* Number of Attributes:\t12 measures, but 54 columns of data (10 quantitative variables, 4 binary wilderness areas and 40 binary soil type variables)\n",
    "\n",
    "**In summary, this seems to be a supervised classification problem having binary output, with both continuous and categorical input features.**"
   ]
  },
  {
   "cell_type": "markdown",
   "metadata": {},
   "source": [
    "# Import packages/libraries"
   ]
  },
  {
   "cell_type": "code",
   "execution_count": 76,
   "metadata": {},
   "outputs": [
    {
     "name": "stdout",
     "output_type": "stream",
     "text": [
      "Requirement already satisfied: sqlalchemy in /Users/Varishth/opt/anaconda3/lib/python3.8/site-packages (1.3.18)\r\n"
     ]
    }
   ],
   "source": [
    "# General processing\n",
    "import numpy as np\n",
    "import pandas as pd\n",
    "\n",
    "# Load Data into SQLite3\n",
    "!pip install sqlalchemy\n",
    "import sqlalchemy as sa\n",
    "\n",
    "# Visualization\n",
    "import matplotlib.pyplot as plt\n",
    "import seaborn as sns\n",
    "\n",
    "# Preprocessing\n",
    "from sklearn.preprocessing import MinMaxScaler\n",
    "from sklearn.model_selection import train_test_split\n",
    "\n",
    "# Modeling given that it is a supervised classification problem\n",
    "from sklearn.ensemble import RandomForestClassifier\n",
    "from sklearn.linear_model import LogisticRegression\n",
    "from sklearn.model_selection import GridSearchCV\n",
    "from sklearn.pipeline import make_pipeline\n",
    "\n",
    "# metrics are used to find accuracy or error\n",
    "from sklearn import metrics \n",
    "from sklearn.metrics import plot_confusion_matrix"
   ]
  },
  {
   "cell_type": "markdown",
   "metadata": {},
   "source": [
    "# Loading data"
   ]
  },
  {
   "cell_type": "markdown",
   "metadata": {},
   "source": [
    "## Load train_data.csv onto a sqlite database"
   ]
  },
  {
   "cell_type": "code",
   "execution_count": 8,
   "metadata": {},
   "outputs": [],
   "source": [
    "# Load data from a flat file into a sqlite database\n",
    "\n",
    "def load_csv_to_sql(file_path, database='data.db', tablename='ForestCoverage'):\n",
    "    #Function definition to convert csv into SQLite3\n",
    "    data = pd.read_csv(file_path)\n",
    "    engine = sa.create_engine(f'sqlite:///{database}')\n",
    "    data.to_sql(tablename, engine, index=False)\n",
    "\n",
    "# TODO: Fill in path to train_data.csv\n",
    "file_path = './data/train_data.csv'\n",
    "load_csv_to_sql(file_path)"
   ]
  },
  {
   "cell_type": "markdown",
   "metadata": {},
   "source": [
    "## Read data into a dataframe from the sqlite database\n",
    "Read Data from SQLite3 using sqlalchemy and pandas"
   ]
  },
  {
   "cell_type": "code",
   "execution_count": 14,
   "metadata": {},
   "outputs": [],
   "source": [
    "# Create a function called \"load_data\" to take in the database and table name, and return a pandas dataframe\n",
    "def load_data(database, tablename):\n",
    "    engine = sa.create_engine(\"sqlite:///%s\" % database, execution_options={\"sqlite_raw_colnames\": True})\n",
    "    df = pd.read_sql_table(tablename, engine)\n",
    "    return df"
   ]
  },
  {
   "cell_type": "code",
   "execution_count": 15,
   "metadata": {},
   "outputs": [
    {
     "data": {
      "text/html": [
       "<div>\n",
       "<style scoped>\n",
       "    .dataframe tbody tr th:only-of-type {\n",
       "        vertical-align: middle;\n",
       "    }\n",
       "\n",
       "    .dataframe tbody tr th {\n",
       "        vertical-align: top;\n",
       "    }\n",
       "\n",
       "    .dataframe thead th {\n",
       "        text-align: right;\n",
       "    }\n",
       "</style>\n",
       "<table border=\"1\" class=\"dataframe\">\n",
       "  <thead>\n",
       "    <tr style=\"text-align: right;\">\n",
       "      <th></th>\n",
       "      <th>Elevation</th>\n",
       "      <th>Aspect</th>\n",
       "      <th>Slope</th>\n",
       "      <th>Horizontal_Distance_To_Hydrology</th>\n",
       "      <th>Vertical_Distance_To_Hydrology</th>\n",
       "      <th>Horizontal_Distance_To_Hydrology.1</th>\n",
       "      <th>Hillshade_9am</th>\n",
       "      <th>Hillshade_Noon</th>\n",
       "      <th>Hillshade_3pm</th>\n",
       "      <th>Horizontal_Distance_To_Fire_Points</th>\n",
       "      <th>Label</th>\n",
       "      <th>Soil_Type</th>\n",
       "      <th>Wilderness_Area</th>\n",
       "    </tr>\n",
       "  </thead>\n",
       "  <tbody>\n",
       "    <tr>\n",
       "      <th>0</th>\n",
       "      <td>2804</td>\n",
       "      <td>139</td>\n",
       "      <td>9</td>\n",
       "      <td>268</td>\n",
       "      <td>65</td>\n",
       "      <td>3180</td>\n",
       "      <td>234</td>\n",
       "      <td>238</td>\n",
       "      <td>135</td>\n",
       "      <td>6121</td>\n",
       "      <td>1</td>\n",
       "      <td>Soil_Type11</td>\n",
       "      <td>Wilderness_Area0</td>\n",
       "    </tr>\n",
       "    <tr>\n",
       "      <th>1</th>\n",
       "      <td>2785</td>\n",
       "      <td>155</td>\n",
       "      <td>18</td>\n",
       "      <td>242</td>\n",
       "      <td>118</td>\n",
       "      <td>3090</td>\n",
       "      <td>238</td>\n",
       "      <td>238</td>\n",
       "      <td>122</td>\n",
       "      <td>6211</td>\n",
       "      <td>1</td>\n",
       "      <td>Soil_Type29</td>\n",
       "      <td>Wilderness_Area0</td>\n",
       "    </tr>\n",
       "    <tr>\n",
       "      <th>2</th>\n",
       "      <td>2579</td>\n",
       "      <td>132</td>\n",
       "      <td>6</td>\n",
       "      <td>300</td>\n",
       "      <td>-15</td>\n",
       "      <td>67</td>\n",
       "      <td>230</td>\n",
       "      <td>237</td>\n",
       "      <td>140</td>\n",
       "      <td>6031</td>\n",
       "      <td>1</td>\n",
       "      <td>Soil_Type28</td>\n",
       "      <td>Wilderness_Area0</td>\n",
       "    </tr>\n",
       "    <tr>\n",
       "      <th>3</th>\n",
       "      <td>2886</td>\n",
       "      <td>151</td>\n",
       "      <td>11</td>\n",
       "      <td>371</td>\n",
       "      <td>26</td>\n",
       "      <td>5253</td>\n",
       "      <td>234</td>\n",
       "      <td>240</td>\n",
       "      <td>136</td>\n",
       "      <td>4051</td>\n",
       "      <td>1</td>\n",
       "      <td>Soil_Type29</td>\n",
       "      <td>Wilderness_Area0</td>\n",
       "    </tr>\n",
       "    <tr>\n",
       "      <th>4</th>\n",
       "      <td>2742</td>\n",
       "      <td>134</td>\n",
       "      <td>22</td>\n",
       "      <td>150</td>\n",
       "      <td>69</td>\n",
       "      <td>3215</td>\n",
       "      <td>248</td>\n",
       "      <td>224</td>\n",
       "      <td>92</td>\n",
       "      <td>6091</td>\n",
       "      <td>1</td>\n",
       "      <td>Soil_Type29</td>\n",
       "      <td>Wilderness_Area0</td>\n",
       "    </tr>\n",
       "  </tbody>\n",
       "</table>\n",
       "</div>"
      ],
      "text/plain": [
       "   Elevation  Aspect  Slope  Horizontal_Distance_To_Hydrology  \\\n",
       "0       2804     139      9                               268   \n",
       "1       2785     155     18                               242   \n",
       "2       2579     132      6                               300   \n",
       "3       2886     151     11                               371   \n",
       "4       2742     134     22                               150   \n",
       "\n",
       "   Vertical_Distance_To_Hydrology  Horizontal_Distance_To_Hydrology.1  \\\n",
       "0                              65                                3180   \n",
       "1                             118                                3090   \n",
       "2                             -15                                  67   \n",
       "3                              26                                5253   \n",
       "4                              69                                3215   \n",
       "\n",
       "   Hillshade_9am  Hillshade_Noon  Hillshade_3pm  \\\n",
       "0            234             238            135   \n",
       "1            238             238            122   \n",
       "2            230             237            140   \n",
       "3            234             240            136   \n",
       "4            248             224             92   \n",
       "\n",
       "   Horizontal_Distance_To_Fire_Points  Label    Soil_Type   Wilderness_Area  \n",
       "0                                6121      1  Soil_Type11  Wilderness_Area0  \n",
       "1                                6211      1  Soil_Type29  Wilderness_Area0  \n",
       "2                                6031      1  Soil_Type28  Wilderness_Area0  \n",
       "3                                4051      1  Soil_Type29  Wilderness_Area0  \n",
       "4                                6091      1  Soil_Type29  Wilderness_Area0  "
      ]
     },
     "execution_count": 15,
     "metadata": {},
     "output_type": "execute_result"
    }
   ],
   "source": [
    "# Call the load_data function to obtain our initial data stored in a dataframe: raw_data\n",
    "raw_df = load_data(database='data.db', tablename='ForestCoverage')\n",
    "raw_df.head()"
   ]
  },
  {
   "cell_type": "markdown",
   "metadata": {},
   "source": [
    "# Exploratory data analysis\n",
    "Now that we have our data loaded in the format desired, we can start exploring our fields to get initial insights. First, let's take a look globally at all the features."
   ]
  },
  {
   "cell_type": "code",
   "execution_count": 16,
   "metadata": {},
   "outputs": [
    {
     "name": "stdout",
     "output_type": "stream",
     "text": [
      "<class 'pandas.core.frame.DataFrame'>\n",
      "RangeIndex: 326793 entries, 0 to 326792\n",
      "Data columns (total 13 columns):\n",
      " #   Column                              Non-Null Count   Dtype \n",
      "---  ------                              --------------   ----- \n",
      " 0   Elevation                           326793 non-null  int64 \n",
      " 1   Aspect                              326793 non-null  int64 \n",
      " 2   Slope                               326793 non-null  int64 \n",
      " 3   Horizontal_Distance_To_Hydrology    326793 non-null  int64 \n",
      " 4   Vertical_Distance_To_Hydrology      326793 non-null  int64 \n",
      " 5   Horizontal_Distance_To_Hydrology.1  326793 non-null  int64 \n",
      " 6   Hillshade_9am                       326793 non-null  int64 \n",
      " 7   Hillshade_Noon                      326793 non-null  int64 \n",
      " 8   Hillshade_3pm                       326793 non-null  int64 \n",
      " 9   Horizontal_Distance_To_Fire_Points  326793 non-null  int64 \n",
      " 10  Label                               326793 non-null  int64 \n",
      " 11  Soil_Type                           326793 non-null  object\n",
      " 12  Wilderness_Area                     326793 non-null  object\n",
      "dtypes: int64(11), object(2)\n",
      "memory usage: 32.4+ MB\n"
     ]
    }
   ],
   "source": [
    "# First look at features to understand features, their types, size of dataframe, and whether we have null data\n",
    "raw_df.info()"
   ]
  },
  {
   "cell_type": "markdown",
   "metadata": {},
   "source": [
    "It appears that we do not have null data, but let's double-check."
   ]
  },
  {
   "cell_type": "code",
   "execution_count": 17,
   "metadata": {
    "scrolled": true
   },
   "outputs": [
    {
     "data": {
      "text/plain": [
       "Elevation                             0\n",
       "Aspect                                0\n",
       "Slope                                 0\n",
       "Horizontal_Distance_To_Hydrology      0\n",
       "Vertical_Distance_To_Hydrology        0\n",
       "Horizontal_Distance_To_Hydrology.1    0\n",
       "Hillshade_9am                         0\n",
       "Hillshade_Noon                        0\n",
       "Hillshade_3pm                         0\n",
       "Horizontal_Distance_To_Fire_Points    0\n",
       "Label                                 0\n",
       "Soil_Type                             0\n",
       "Wilderness_Area                       0\n",
       "dtype: int64"
      ]
     },
     "execution_count": 17,
     "metadata": {},
     "output_type": "execute_result"
    }
   ],
   "source": [
    "raw_df.isna().sum()"
   ]
  },
  {
   "cell_type": "markdown",
   "metadata": {},
   "source": [
    "Great, we have confirmed that we have no null values! But we notice that there is one suspicious field \"Horizontal_Distance_To_Hydrology.1\". The nomenclature indicates that this field was accidentally doubled up. Let's explore to find out."
   ]
  },
  {
   "cell_type": "code",
   "execution_count": 19,
   "metadata": {},
   "outputs": [
    {
     "data": {
      "text/html": [
       "<div>\n",
       "<style scoped>\n",
       "    .dataframe tbody tr th:only-of-type {\n",
       "        vertical-align: middle;\n",
       "    }\n",
       "\n",
       "    .dataframe tbody tr th {\n",
       "        vertical-align: top;\n",
       "    }\n",
       "\n",
       "    .dataframe thead th {\n",
       "        text-align: right;\n",
       "    }\n",
       "</style>\n",
       "<table border=\"1\" class=\"dataframe\">\n",
       "  <thead>\n",
       "    <tr style=\"text-align: right;\">\n",
       "      <th></th>\n",
       "      <th>Horizontal_Distance_To_Hydrology</th>\n",
       "      <th>Horizontal_Distance_To_Hydrology.1</th>\n",
       "    </tr>\n",
       "  </thead>\n",
       "  <tbody>\n",
       "    <tr>\n",
       "      <th>185305</th>\n",
       "      <td>108</td>\n",
       "      <td>4473</td>\n",
       "    </tr>\n",
       "    <tr>\n",
       "      <th>129706</th>\n",
       "      <td>60</td>\n",
       "      <td>1440</td>\n",
       "    </tr>\n",
       "    <tr>\n",
       "      <th>309770</th>\n",
       "      <td>569</td>\n",
       "      <td>1899</td>\n",
       "    </tr>\n",
       "    <tr>\n",
       "      <th>307816</th>\n",
       "      <td>42</td>\n",
       "      <td>2346</td>\n",
       "    </tr>\n",
       "    <tr>\n",
       "      <th>137624</th>\n",
       "      <td>433</td>\n",
       "      <td>3062</td>\n",
       "    </tr>\n",
       "    <tr>\n",
       "      <th>173530</th>\n",
       "      <td>42</td>\n",
       "      <td>2781</td>\n",
       "    </tr>\n",
       "    <tr>\n",
       "      <th>240686</th>\n",
       "      <td>342</td>\n",
       "      <td>1455</td>\n",
       "    </tr>\n",
       "    <tr>\n",
       "      <th>277347</th>\n",
       "      <td>108</td>\n",
       "      <td>446</td>\n",
       "    </tr>\n",
       "    <tr>\n",
       "      <th>28438</th>\n",
       "      <td>67</td>\n",
       "      <td>4672</td>\n",
       "    </tr>\n",
       "    <tr>\n",
       "      <th>122115</th>\n",
       "      <td>404</td>\n",
       "      <td>1677</td>\n",
       "    </tr>\n",
       "  </tbody>\n",
       "</table>\n",
       "</div>"
      ],
      "text/plain": [
       "        Horizontal_Distance_To_Hydrology  Horizontal_Distance_To_Hydrology.1\n",
       "185305                               108                                4473\n",
       "129706                                60                                1440\n",
       "309770                               569                                1899\n",
       "307816                                42                                2346\n",
       "137624                               433                                3062\n",
       "173530                                42                                2781\n",
       "240686                               342                                1455\n",
       "277347                               108                                 446\n",
       "28438                                 67                                4672\n",
       "122115                               404                                1677"
      ]
     },
     "execution_count": 19,
     "metadata": {},
     "output_type": "execute_result"
    }
   ],
   "source": [
    "raw_df[[\"Horizontal_Distance_To_Hydrology\", \"Horizontal_Distance_To_Hydrology.1\"]].sample(10)"
   ]
  },
  {
   "cell_type": "markdown",
   "metadata": {},
   "source": [
    "The columns are not doubled, so we cross-check with the original data documentation and find that there is indeed only one intended field. In order to decide which one to drop, we can check against `Vertical_Distance_To_Hydrology`"
   ]
  },
  {
   "cell_type": "code",
   "execution_count": 20,
   "metadata": {},
   "outputs": [
    {
     "data": {
      "text/html": [
       "<div>\n",
       "<style scoped>\n",
       "    .dataframe tbody tr th:only-of-type {\n",
       "        vertical-align: middle;\n",
       "    }\n",
       "\n",
       "    .dataframe tbody tr th {\n",
       "        vertical-align: top;\n",
       "    }\n",
       "\n",
       "    .dataframe thead th {\n",
       "        text-align: right;\n",
       "    }\n",
       "</style>\n",
       "<table border=\"1\" class=\"dataframe\">\n",
       "  <thead>\n",
       "    <tr style=\"text-align: right;\">\n",
       "      <th></th>\n",
       "      <th>Vertical_Distance_To_Hydrology</th>\n",
       "      <th>Horizontal_Distance_To_Hydrology</th>\n",
       "      <th>Horizontal_Distance_To_Hydrology.1</th>\n",
       "    </tr>\n",
       "  </thead>\n",
       "  <tbody>\n",
       "    <tr>\n",
       "      <th>259052</th>\n",
       "      <td>78</td>\n",
       "      <td>212</td>\n",
       "      <td>2244</td>\n",
       "    </tr>\n",
       "    <tr>\n",
       "      <th>176741</th>\n",
       "      <td>3</td>\n",
       "      <td>42</td>\n",
       "      <td>1075</td>\n",
       "    </tr>\n",
       "    <tr>\n",
       "      <th>289060</th>\n",
       "      <td>0</td>\n",
       "      <td>90</td>\n",
       "      <td>1371</td>\n",
       "    </tr>\n",
       "    <tr>\n",
       "      <th>155383</th>\n",
       "      <td>-4</td>\n",
       "      <td>127</td>\n",
       "      <td>1756</td>\n",
       "    </tr>\n",
       "    <tr>\n",
       "      <th>310824</th>\n",
       "      <td>57</td>\n",
       "      <td>420</td>\n",
       "      <td>1124</td>\n",
       "    </tr>\n",
       "    <tr>\n",
       "      <th>163830</th>\n",
       "      <td>25</td>\n",
       "      <td>212</td>\n",
       "      <td>1650</td>\n",
       "    </tr>\n",
       "    <tr>\n",
       "      <th>211708</th>\n",
       "      <td>9</td>\n",
       "      <td>42</td>\n",
       "      <td>2106</td>\n",
       "    </tr>\n",
       "    <tr>\n",
       "      <th>88058</th>\n",
       "      <td>0</td>\n",
       "      <td>0</td>\n",
       "      <td>3789</td>\n",
       "    </tr>\n",
       "    <tr>\n",
       "      <th>157656</th>\n",
       "      <td>9</td>\n",
       "      <td>182</td>\n",
       "      <td>3424</td>\n",
       "    </tr>\n",
       "    <tr>\n",
       "      <th>40032</th>\n",
       "      <td>-3</td>\n",
       "      <td>30</td>\n",
       "      <td>2329</td>\n",
       "    </tr>\n",
       "  </tbody>\n",
       "</table>\n",
       "</div>"
      ],
      "text/plain": [
       "        Vertical_Distance_To_Hydrology  Horizontal_Distance_To_Hydrology  \\\n",
       "259052                              78                               212   \n",
       "176741                               3                                42   \n",
       "289060                               0                                90   \n",
       "155383                              -4                               127   \n",
       "310824                              57                               420   \n",
       "163830                              25                               212   \n",
       "211708                               9                                42   \n",
       "88058                                0                                 0   \n",
       "157656                               9                               182   \n",
       "40032                               -3                                30   \n",
       "\n",
       "        Horizontal_Distance_To_Hydrology.1  \n",
       "259052                                2244  \n",
       "176741                                1075  \n",
       "289060                                1371  \n",
       "155383                                1756  \n",
       "310824                                1124  \n",
       "163830                                1650  \n",
       "211708                                2106  \n",
       "88058                                 3789  \n",
       "157656                                3424  \n",
       "40032                                 2329  "
      ]
     },
     "execution_count": 20,
     "metadata": {},
     "output_type": "execute_result"
    }
   ],
   "source": [
    "raw_df[[\"Vertical_Distance_To_Hydrology\",\"Horizontal_Distance_To_Hydrology\", \"Horizontal_Distance_To_Hydrology.1\"]].sample(10)"
   ]
  },
  {
   "cell_type": "markdown",
   "metadata": {},
   "source": [
    "Given the scales, we can safely assume that `Horizontal_Distance_To_Hydrology.1` is the wrong field, and we can drop it."
   ]
  },
  {
   "cell_type": "code",
   "execution_count": 24,
   "metadata": {},
   "outputs": [],
   "source": [
    "raw_df.drop([\"Horizontal_Distance_To_Hydrology.1\"], axis=1, inplace=True)"
   ]
  },
  {
   "cell_type": "code",
   "execution_count": 25,
   "metadata": {},
   "outputs": [
    {
     "data": {
      "text/html": [
       "<div>\n",
       "<style scoped>\n",
       "    .dataframe tbody tr th:only-of-type {\n",
       "        vertical-align: middle;\n",
       "    }\n",
       "\n",
       "    .dataframe tbody tr th {\n",
       "        vertical-align: top;\n",
       "    }\n",
       "\n",
       "    .dataframe thead th {\n",
       "        text-align: right;\n",
       "    }\n",
       "</style>\n",
       "<table border=\"1\" class=\"dataframe\">\n",
       "  <thead>\n",
       "    <tr style=\"text-align: right;\">\n",
       "      <th></th>\n",
       "      <th>Elevation</th>\n",
       "      <th>Aspect</th>\n",
       "      <th>Slope</th>\n",
       "      <th>Horizontal_Distance_To_Hydrology</th>\n",
       "      <th>Vertical_Distance_To_Hydrology</th>\n",
       "      <th>Hillshade_9am</th>\n",
       "      <th>Hillshade_Noon</th>\n",
       "      <th>Hillshade_3pm</th>\n",
       "      <th>Horizontal_Distance_To_Fire_Points</th>\n",
       "      <th>Label</th>\n",
       "      <th>Soil_Type</th>\n",
       "      <th>Wilderness_Area</th>\n",
       "    </tr>\n",
       "  </thead>\n",
       "  <tbody>\n",
       "    <tr>\n",
       "      <th>0</th>\n",
       "      <td>2804</td>\n",
       "      <td>139</td>\n",
       "      <td>9</td>\n",
       "      <td>268</td>\n",
       "      <td>65</td>\n",
       "      <td>234</td>\n",
       "      <td>238</td>\n",
       "      <td>135</td>\n",
       "      <td>6121</td>\n",
       "      <td>1</td>\n",
       "      <td>Soil_Type11</td>\n",
       "      <td>Wilderness_Area0</td>\n",
       "    </tr>\n",
       "    <tr>\n",
       "      <th>1</th>\n",
       "      <td>2785</td>\n",
       "      <td>155</td>\n",
       "      <td>18</td>\n",
       "      <td>242</td>\n",
       "      <td>118</td>\n",
       "      <td>238</td>\n",
       "      <td>238</td>\n",
       "      <td>122</td>\n",
       "      <td>6211</td>\n",
       "      <td>1</td>\n",
       "      <td>Soil_Type29</td>\n",
       "      <td>Wilderness_Area0</td>\n",
       "    </tr>\n",
       "    <tr>\n",
       "      <th>2</th>\n",
       "      <td>2579</td>\n",
       "      <td>132</td>\n",
       "      <td>6</td>\n",
       "      <td>300</td>\n",
       "      <td>-15</td>\n",
       "      <td>230</td>\n",
       "      <td>237</td>\n",
       "      <td>140</td>\n",
       "      <td>6031</td>\n",
       "      <td>1</td>\n",
       "      <td>Soil_Type28</td>\n",
       "      <td>Wilderness_Area0</td>\n",
       "    </tr>\n",
       "    <tr>\n",
       "      <th>3</th>\n",
       "      <td>2886</td>\n",
       "      <td>151</td>\n",
       "      <td>11</td>\n",
       "      <td>371</td>\n",
       "      <td>26</td>\n",
       "      <td>234</td>\n",
       "      <td>240</td>\n",
       "      <td>136</td>\n",
       "      <td>4051</td>\n",
       "      <td>1</td>\n",
       "      <td>Soil_Type29</td>\n",
       "      <td>Wilderness_Area0</td>\n",
       "    </tr>\n",
       "    <tr>\n",
       "      <th>4</th>\n",
       "      <td>2742</td>\n",
       "      <td>134</td>\n",
       "      <td>22</td>\n",
       "      <td>150</td>\n",
       "      <td>69</td>\n",
       "      <td>248</td>\n",
       "      <td>224</td>\n",
       "      <td>92</td>\n",
       "      <td>6091</td>\n",
       "      <td>1</td>\n",
       "      <td>Soil_Type29</td>\n",
       "      <td>Wilderness_Area0</td>\n",
       "    </tr>\n",
       "  </tbody>\n",
       "</table>\n",
       "</div>"
      ],
      "text/plain": [
       "   Elevation  Aspect  Slope  Horizontal_Distance_To_Hydrology  \\\n",
       "0       2804     139      9                               268   \n",
       "1       2785     155     18                               242   \n",
       "2       2579     132      6                               300   \n",
       "3       2886     151     11                               371   \n",
       "4       2742     134     22                               150   \n",
       "\n",
       "   Vertical_Distance_To_Hydrology  Hillshade_9am  Hillshade_Noon  \\\n",
       "0                              65            234             238   \n",
       "1                             118            238             238   \n",
       "2                             -15            230             237   \n",
       "3                              26            234             240   \n",
       "4                              69            248             224   \n",
       "\n",
       "   Hillshade_3pm  Horizontal_Distance_To_Fire_Points  Label    Soil_Type  \\\n",
       "0            135                                6121      1  Soil_Type11   \n",
       "1            122                                6211      1  Soil_Type29   \n",
       "2            140                                6031      1  Soil_Type28   \n",
       "3            136                                4051      1  Soil_Type29   \n",
       "4             92                                6091      1  Soil_Type29   \n",
       "\n",
       "    Wilderness_Area  \n",
       "0  Wilderness_Area0  \n",
       "1  Wilderness_Area0  \n",
       "2  Wilderness_Area0  \n",
       "3  Wilderness_Area0  \n",
       "4  Wilderness_Area0  "
      ]
     },
     "execution_count": 25,
     "metadata": {},
     "output_type": "execute_result"
    }
   ],
   "source": [
    "raw_df.head()"
   ]
  },
  {
   "cell_type": "markdown",
   "metadata": {},
   "source": [
    "In order to get some understanding of the distribution of the continuous variables, and any initial impact on the label, we can use distribution plots from seaborn."
   ]
  },
  {
   "cell_type": "code",
   "execution_count": 31,
   "metadata": {
    "scrolled": true
   },
   "outputs": [
    {
     "data": {
      "image/png": "[encoded data removed]",
      "text/plain": [
       "<Figure size 720x288 with 1 Axes>"
      ]
     },
     "metadata": {
      "needs_background": "light"
     },
     "output_type": "display_data"
    },
    {
     "data": {
      "image/png": "[encoded data removed]",
      "text/plain": [
       "<Figure size 720x288 with 1 Axes>"
      ]
     },
     "metadata": {
      "needs_background": "light"
     },
     "output_type": "display_data"
    },
    {
     "data": {
      "image/png": "[encoded data removed]",
      "text/plain": [
       "<Figure size 720x288 with 1 Axes>"
      ]
     },
     "metadata": {
      "needs_background": "light"
     },
     "output_type": "display_data"
    },
    {
     "data": {
      "image/png": "[encoded data removed]",
      "text/plain": [
       "<Figure size 720x288 with 1 Axes>"
      ]
     },
     "metadata": {
      "needs_background": "light"
     },
     "output_type": "display_data"
    },
    {
     "data": {
      "image/png": "[encoded data removed]",
      "text/plain": [
       "<Figure size 720x288 with 1 Axes>"
      ]
     },
     "metadata": {
      "needs_background": "light"
     },
     "output_type": "display_data"
    },
    {
     "data": {
      "image/png": "[encoded data removed]",
      "text/plain": [
       "<Figure size 720x288 with 1 Axes>"
      ]
     },
     "metadata": {
      "needs_background": "light"
     },
     "output_type": "display_data"
    },
    {
     "data": {
      "image/png": "[encoded data removed]",
      "text/plain": [
       "<Figure size 720x288 with 1 Axes>"
      ]
     },
     "metadata": {
      "needs_background": "light"
     },
     "output_type": "display_data"
    },
    {
     "data": {
      "image/png": "[encoded data removed]",
      "text/plain": [
       "<Figure size 720x288 with 1 Axes>"
      ]
     },
     "metadata": {
      "needs_background": "light"
     },
     "output_type": "display_data"
    },
    {
     "data": {
      "image/png": "[encoded data removed]",
      "text/plain": [
       "<Figure size 720x288 with 1 Axes>"
      ]
     },
     "metadata": {
      "needs_background": "light"
     },
     "output_type": "display_data"
    },
    {
     "data": {
      "image/png": "[encoded data removed]",
      "text/plain": [
       "<Figure size 720x288 with 1 Axes>"
      ]
     },
     "metadata": {
      "needs_background": "light"
     },
     "output_type": "display_data"
    }
   ],
   "source": [
    "num_col=raw_df.select_dtypes('number').columns\n",
    "for i in range(len(num_col)):\n",
    "    fig, axes = plt.subplots(nrows=1, ncols=1,figsize=(10, 4))\n",
    "    ax = sns.distplot(raw_df[raw_df['Label']==1][num_col[i]], bins=18, label = 'Lodgepole Pine', ax = axes, kde =False)\n",
    "    ax = sns.distplot(raw_df[raw_df['Label']==0][num_col[i]], bins=18, label = 'Spruce/Fir', ax = axes, kde =False)\n",
    "    ax.legend()"
   ]
  },
  {
   "cell_type": "markdown",
   "metadata": {},
   "source": [
    "**Observations:**\n",
    "* We generally have more entries classified as Lodgepole Pine than Spruce/Fir (roughly 1.6x)\n",
    "* All our continuous variables have reasonable distributions (no suspicious outliers)\n",
    "* The only feature with a distinctive impact on label is `Elevation`. Others seem to follow the classification spread"
   ]
  },
  {
   "cell_type": "markdown",
   "metadata": {},
   "source": [
    "Let's do the same for categorical variables!\n"
   ]
  },
  {
   "cell_type": "code",
   "execution_count": 32,
   "metadata": {},
   "outputs": [
    {
     "data": {
      "text/plain": [
       "<matplotlib.axes._subplots.AxesSubplot at 0x7fbefea1af10>"
      ]
     },
     "execution_count": 32,
     "metadata": {},
     "output_type": "execute_result"
    },
    {
     "data": {
      "image/png": "[encoded data removed]",
      "text/plain": [
       "<Figure size 1440x288 with 1 Axes>"
      ]
     },
     "metadata": {
      "needs_background": "light"
     },
     "output_type": "display_data"
    }
   ],
   "source": [
    "plt.figure(figsize=(20,4))\n",
    "sns.countplot(data=raw_df, x='Soil_Type', hue='Label')\n",
    "#plt.title('Group size')"
   ]
  },
  {
   "cell_type": "code",
   "execution_count": 33,
   "metadata": {},
   "outputs": [
    {
     "data": {
      "text/plain": [
       "<matplotlib.axes._subplots.AxesSubplot at 0x7fbefa3b9460>"
      ]
     },
     "execution_count": 33,
     "metadata": {},
     "output_type": "execute_result"
    },
    {
     "data": {
      "image/png": "[encoded data removed]",
      "text/plain": [
       "<Figure size 1440x288 with 1 Axes>"
      ]
     },
     "metadata": {
      "needs_background": "light"
     },
     "output_type": "display_data"
    }
   ],
   "source": [
    "plt.figure(figsize=(20,4))\n",
    "sns.countplot(data=raw_df, x='Wilderness_Area', hue='Label')\n",
    "#plt.title('Group size')"
   ]
  },
  {
   "cell_type": "markdown",
   "metadata": {},
   "source": [
    "**Observations:**\n",
    "* Wilderness areas seem to generally follow the distribution that we expected from the classification labels, but already Wilderness_Area2 seems to be more highly skewed towards Label 1 - Lodgepole Pine\n",
    "* Soil_Type offers an interesting mix where Label 0 is sometimes more favored than Label 1 - contrary to over overall distribution of labels!"
   ]
  },
  {
   "cell_type": "markdown",
   "metadata": {},
   "source": [
    "# Pre-processing"
   ]
  },
  {
   "cell_type": "markdown",
   "metadata": {},
   "source": [
    "In order to do any type of modeling, we need to first pre-process the data. Namely, we need to get dummy variables for the categorical variables.\n",
    "\n",
    "We need to also separate our training set from our testing set."
   ]
  },
  {
   "cell_type": "code",
   "execution_count": 38,
   "metadata": {
    "scrolled": false
   },
   "outputs": [
    {
     "data": {
      "text/html": [
       "<div>\n",
       "<style scoped>\n",
       "    .dataframe tbody tr th:only-of-type {\n",
       "        vertical-align: middle;\n",
       "    }\n",
       "\n",
       "    .dataframe tbody tr th {\n",
       "        vertical-align: top;\n",
       "    }\n",
       "\n",
       "    .dataframe thead th {\n",
       "        text-align: right;\n",
       "    }\n",
       "</style>\n",
       "<table border=\"1\" class=\"dataframe\">\n",
       "  <thead>\n",
       "    <tr style=\"text-align: right;\">\n",
       "      <th></th>\n",
       "      <th>Elevation</th>\n",
       "      <th>Aspect</th>\n",
       "      <th>Slope</th>\n",
       "      <th>Horizontal_Distance_To_Hydrology</th>\n",
       "      <th>Vertical_Distance_To_Hydrology</th>\n",
       "      <th>Hillshade_9am</th>\n",
       "      <th>Hillshade_Noon</th>\n",
       "      <th>Hillshade_3pm</th>\n",
       "      <th>Horizontal_Distance_To_Fire_Points</th>\n",
       "      <th>Label</th>\n",
       "      <th>...</th>\n",
       "      <th>Soil_Type39</th>\n",
       "      <th>Soil_Type5</th>\n",
       "      <th>Soil_Type6</th>\n",
       "      <th>Soil_Type7</th>\n",
       "      <th>Soil_Type8</th>\n",
       "      <th>Soil_Type9</th>\n",
       "      <th>Wilderness_Area0</th>\n",
       "      <th>Wilderness_Area1</th>\n",
       "      <th>Wilderness_Area2</th>\n",
       "      <th>Wilderness_Area3</th>\n",
       "    </tr>\n",
       "  </thead>\n",
       "  <tbody>\n",
       "    <tr>\n",
       "      <th>0</th>\n",
       "      <td>2804</td>\n",
       "      <td>139</td>\n",
       "      <td>9</td>\n",
       "      <td>268</td>\n",
       "      <td>65</td>\n",
       "      <td>234</td>\n",
       "      <td>238</td>\n",
       "      <td>135</td>\n",
       "      <td>6121</td>\n",
       "      <td>1</td>\n",
       "      <td>...</td>\n",
       "      <td>0</td>\n",
       "      <td>0</td>\n",
       "      <td>0</td>\n",
       "      <td>0</td>\n",
       "      <td>0</td>\n",
       "      <td>0</td>\n",
       "      <td>1</td>\n",
       "      <td>0</td>\n",
       "      <td>0</td>\n",
       "      <td>0</td>\n",
       "    </tr>\n",
       "    <tr>\n",
       "      <th>1</th>\n",
       "      <td>2785</td>\n",
       "      <td>155</td>\n",
       "      <td>18</td>\n",
       "      <td>242</td>\n",
       "      <td>118</td>\n",
       "      <td>238</td>\n",
       "      <td>238</td>\n",
       "      <td>122</td>\n",
       "      <td>6211</td>\n",
       "      <td>1</td>\n",
       "      <td>...</td>\n",
       "      <td>0</td>\n",
       "      <td>0</td>\n",
       "      <td>0</td>\n",
       "      <td>0</td>\n",
       "      <td>0</td>\n",
       "      <td>0</td>\n",
       "      <td>1</td>\n",
       "      <td>0</td>\n",
       "      <td>0</td>\n",
       "      <td>0</td>\n",
       "    </tr>\n",
       "    <tr>\n",
       "      <th>2</th>\n",
       "      <td>2579</td>\n",
       "      <td>132</td>\n",
       "      <td>6</td>\n",
       "      <td>300</td>\n",
       "      <td>-15</td>\n",
       "      <td>230</td>\n",
       "      <td>237</td>\n",
       "      <td>140</td>\n",
       "      <td>6031</td>\n",
       "      <td>1</td>\n",
       "      <td>...</td>\n",
       "      <td>0</td>\n",
       "      <td>0</td>\n",
       "      <td>0</td>\n",
       "      <td>0</td>\n",
       "      <td>0</td>\n",
       "      <td>0</td>\n",
       "      <td>1</td>\n",
       "      <td>0</td>\n",
       "      <td>0</td>\n",
       "      <td>0</td>\n",
       "    </tr>\n",
       "    <tr>\n",
       "      <th>3</th>\n",
       "      <td>2886</td>\n",
       "      <td>151</td>\n",
       "      <td>11</td>\n",
       "      <td>371</td>\n",
       "      <td>26</td>\n",
       "      <td>234</td>\n",
       "      <td>240</td>\n",
       "      <td>136</td>\n",
       "      <td>4051</td>\n",
       "      <td>1</td>\n",
       "      <td>...</td>\n",
       "      <td>0</td>\n",
       "      <td>0</td>\n",
       "      <td>0</td>\n",
       "      <td>0</td>\n",
       "      <td>0</td>\n",
       "      <td>0</td>\n",
       "      <td>1</td>\n",
       "      <td>0</td>\n",
       "      <td>0</td>\n",
       "      <td>0</td>\n",
       "    </tr>\n",
       "    <tr>\n",
       "      <th>4</th>\n",
       "      <td>2742</td>\n",
       "      <td>134</td>\n",
       "      <td>22</td>\n",
       "      <td>150</td>\n",
       "      <td>69</td>\n",
       "      <td>248</td>\n",
       "      <td>224</td>\n",
       "      <td>92</td>\n",
       "      <td>6091</td>\n",
       "      <td>1</td>\n",
       "      <td>...</td>\n",
       "      <td>0</td>\n",
       "      <td>0</td>\n",
       "      <td>0</td>\n",
       "      <td>0</td>\n",
       "      <td>0</td>\n",
       "      <td>0</td>\n",
       "      <td>1</td>\n",
       "      <td>0</td>\n",
       "      <td>0</td>\n",
       "      <td>0</td>\n",
       "    </tr>\n",
       "  </tbody>\n",
       "</table>\n",
       "<p>5 rows × 49 columns</p>\n",
       "</div>"
      ],
      "text/plain": [
       "   Elevation  Aspect  Slope  Horizontal_Distance_To_Hydrology  \\\n",
       "0       2804     139      9                               268   \n",
       "1       2785     155     18                               242   \n",
       "2       2579     132      6                               300   \n",
       "3       2886     151     11                               371   \n",
       "4       2742     134     22                               150   \n",
       "\n",
       "   Vertical_Distance_To_Hydrology  Hillshade_9am  Hillshade_Noon  \\\n",
       "0                              65            234             238   \n",
       "1                             118            238             238   \n",
       "2                             -15            230             237   \n",
       "3                              26            234             240   \n",
       "4                              69            248             224   \n",
       "\n",
       "   Hillshade_3pm  Horizontal_Distance_To_Fire_Points  Label  ...  Soil_Type39  \\\n",
       "0            135                                6121      1  ...            0   \n",
       "1            122                                6211      1  ...            0   \n",
       "2            140                                6031      1  ...            0   \n",
       "3            136                                4051      1  ...            0   \n",
       "4             92                                6091      1  ...            0   \n",
       "\n",
       "   Soil_Type5  Soil_Type6  Soil_Type7  Soil_Type8  Soil_Type9  \\\n",
       "0           0           0           0           0           0   \n",
       "1           0           0           0           0           0   \n",
       "2           0           0           0           0           0   \n",
       "3           0           0           0           0           0   \n",
       "4           0           0           0           0           0   \n",
       "\n",
       "   Wilderness_Area0  Wilderness_Area1  Wilderness_Area2  Wilderness_Area3  \n",
       "0                 1                 0                 0                 0  \n",
       "1                 1                 0                 0                 0  \n",
       "2                 1                 0                 0                 0  \n",
       "3                 1                 0                 0                 0  \n",
       "4                 1                 0                 0                 0  \n",
       "\n",
       "[5 rows x 49 columns]"
      ]
     },
     "execution_count": 38,
     "metadata": {},
     "output_type": "execute_result"
    }
   ],
   "source": [
    "# Use get_dummies to one-hot encode the categorical variables\n",
    "df = pd.get_dummies(raw_df,prefix='', prefix_sep='')\n",
    "df.head()"
   ]
  },
  {
   "cell_type": "code",
   "execution_count": 40,
   "metadata": {},
   "outputs": [],
   "source": [
    "# Use train_test_split to divide the dataset into 80-20 training and testing sets.\n",
    "X_train, X_test, y_train, y_test = train_test_split(df.drop([\"Label\"], axis=1), df[\"Label\"], \n",
    "                                                    test_size = 0.20, random_state = 42)"
   ]
  },
  {
   "cell_type": "markdown",
   "metadata": {},
   "source": [
    "# Modeling"
   ]
  },
  {
   "cell_type": "markdown",
   "metadata": {},
   "source": [
    "## Baseline: Logistic Regression"
   ]
  },
  {
   "cell_type": "markdown",
   "metadata": {},
   "source": [
    "In order to establish a baseline, we can use Logistic Regression with all default settings. This will likely be an overfitted model, with issues regarding scales, but it is nonetheless a fast implementation that should allow us to benchmark our other models."
   ]
  },
  {
   "cell_type": "code",
   "execution_count": 43,
   "metadata": {
    "scrolled": true
   },
   "outputs": [
    {
     "name": "stdout",
     "output_type": "stream",
     "text": [
      "Baseline Logistic Regression accuracy: 77.90%\n"
     ]
    },
    {
     "name": "stderr",
     "output_type": "stream",
     "text": [
      "/Users/Varishth/opt/anaconda3/lib/python3.8/site-packages/sklearn/linear_model/_logistic.py:762: ConvergenceWarning: lbfgs failed to converge (status=1):\n",
      "STOP: TOTAL NO. of ITERATIONS REACHED LIMIT.\n",
      "\n",
      "Increase the number of iterations (max_iter) or scale the data as shown in:\n",
      "    https://scikit-learn.org/stable/modules/preprocessing.html\n",
      "Please also refer to the documentation for alternative solver options:\n",
      "    https://scikit-learn.org/stable/modules/linear_model.html#logistic-regression\n",
      "  n_iter_i = _check_optimize_result(\n"
     ]
    }
   ],
   "source": [
    "# trying Logistic Regression as a baseline\n",
    "# Instantiate and fit model \n",
    "lr_clf = LogisticRegression(random_state = 42)\n",
    "lr_clf.fit(X_train, y_train)\n",
    "\n",
    "# make predictions for test data\n",
    "y_pred = lr_clf.predict(X_test)\n",
    "predictions = [round(value) for value in y_pred]\n",
    "\n",
    "# evaluate predictions\n",
    "accuracy = metrics.accuracy_score(y_test, predictions)\n",
    "print(\"Baseline Logistic Regression accuracy: %.2f%%\" % (accuracy * 100.0))"
   ]
  },
  {
   "cell_type": "markdown",
   "metadata": {},
   "source": [
    "## Random Forest"
   ]
  },
  {
   "cell_type": "markdown",
   "metadata": {},
   "source": [
    "**A more logical model to implement is a Random Forest model. This is because we have a very large dataset, with varying scales, and therefore an ensemble of decision trees is likely a more effective approach**"
   ]
  },
  {
   "cell_type": "code",
   "execution_count": 46,
   "metadata": {},
   "outputs": [
    {
     "name": "stdout",
     "output_type": "stream",
     "text": [
      "Untuned Random Forest accuracy: 93.50%\n"
     ]
    }
   ],
   "source": [
    "# Instantiate model with all default RF classifier settings\n",
    "rf_clf = RandomForestClassifier( random_state = 42)\n",
    "# Train the model on training data\n",
    "rf_clf.fit(X_train, y_train)\n",
    "# performing predictions on the test dataset\n",
    "y_pred = rf_clf.predict(X_test)\n",
    "# using metrics module for accuracy calculation\n",
    "accuracy = metrics.accuracy_score(y_test, y_pred)\n",
    "print(\"Untuned Random Forest accuracy: %.2f%%\" % (accuracy * 100.0))"
   ]
  },
  {
   "cell_type": "markdown",
   "metadata": {},
   "source": [
    "Even the untuned Random Forest perfomrs really well - giving us a new baseline to compare against! Before tuning the hyperparameters of the Random Forest, we can take a look at the features that are most important"
   ]
  },
  {
   "cell_type": "code",
   "execution_count": 49,
   "metadata": {},
   "outputs": [
    {
     "name": "stderr",
     "output_type": "stream",
     "text": [
      "No handles with labels found to put in legend.\n"
     ]
    },
    {
     "data": {
      "image/png": "[encoded data removed]",
      "text/plain": [
       "<Figure size 1440x1440 with 1 Axes>"
      ]
     },
     "metadata": {
      "needs_background": "light"
     },
     "output_type": "display_data"
    }
   ],
   "source": [
    "# Explore the feature importances from our trained Random Forest model\n",
    "feature_imp = pd.Series(rf_clf.feature_importances_,index=X_train.columns).sort_values(ascending=False)\n",
    "\n",
    "# Creating a bar plot\n",
    "plt.figure(figsize=(20,20))\n",
    "sns.barplot(x=feature_imp, y=feature_imp.index)\n",
    "# Add labels to your graph\n",
    "plt.xlabel('Feature Importance Score')\n",
    "plt.ylabel('Features')\n",
    "plt.title(\"Visualizing Important Features\")\n",
    "plt.legend()\n",
    "plt.show()"
   ]
  },
  {
   "cell_type": "markdown",
   "metadata": {},
   "source": [
    "As we had initially hypothesised, `Elevation` indeed plays a large role in this prediction!\n",
    "\n",
    "**What happens if we half our features to save on computation time?**"
   ]
  },
  {
   "cell_type": "code",
   "execution_count": 60,
   "metadata": {
    "scrolled": true
   },
   "outputs": [],
   "source": [
    "#Get top 20 features\n",
    "best_features = feature_imp[:20].index\n"
   ]
  },
  {
   "cell_type": "code",
   "execution_count": 70,
   "metadata": {
    "scrolled": true
   },
   "outputs": [
    {
     "name": "stderr",
     "output_type": "stream",
     "text": [
      "<ipython-input-70-519b10aa512a>:3: SettingWithCopyWarning: \n",
      "A value is trying to be set on a copy of a slice from a DataFrame.\n",
      "Try using .loc[row_indexer,col_indexer] = value instead\n",
      "\n",
      "See the caveats in the documentation: https://pandas.pydata.org/pandas-docs/stable/user_guide/indexing.html#returning-a-view-versus-a-copy\n",
      "  df_simple[\"Label\"] = df[\"Label\"]\n"
     ]
    },
    {
     "data": {
      "text/html": [
       "<div>\n",
       "<style scoped>\n",
       "    .dataframe tbody tr th:only-of-type {\n",
       "        vertical-align: middle;\n",
       "    }\n",
       "\n",
       "    .dataframe tbody tr th {\n",
       "        vertical-align: top;\n",
       "    }\n",
       "\n",
       "    .dataframe thead th {\n",
       "        text-align: right;\n",
       "    }\n",
       "</style>\n",
       "<table border=\"1\" class=\"dataframe\">\n",
       "  <thead>\n",
       "    <tr style=\"text-align: right;\">\n",
       "      <th></th>\n",
       "      <th>Elevation</th>\n",
       "      <th>Horizontal_Distance_To_Fire_Points</th>\n",
       "      <th>Horizontal_Distance_To_Hydrology</th>\n",
       "      <th>Vertical_Distance_To_Hydrology</th>\n",
       "      <th>Aspect</th>\n",
       "      <th>Hillshade_Noon</th>\n",
       "      <th>Hillshade_3pm</th>\n",
       "      <th>Hillshade_9am</th>\n",
       "      <th>Slope</th>\n",
       "      <th>Soil_Type21</th>\n",
       "      <th>...</th>\n",
       "      <th>Soil_Type11</th>\n",
       "      <th>Soil_Type38</th>\n",
       "      <th>Soil_Type37</th>\n",
       "      <th>Soil_Type28</th>\n",
       "      <th>Wilderness_Area0</th>\n",
       "      <th>Wilderness_Area2</th>\n",
       "      <th>Soil_Type39</th>\n",
       "      <th>Soil_Type29</th>\n",
       "      <th>Soil_Type31</th>\n",
       "      <th>Label</th>\n",
       "    </tr>\n",
       "  </thead>\n",
       "  <tbody>\n",
       "    <tr>\n",
       "      <th>0</th>\n",
       "      <td>2804</td>\n",
       "      <td>6121</td>\n",
       "      <td>268</td>\n",
       "      <td>65</td>\n",
       "      <td>139</td>\n",
       "      <td>238</td>\n",
       "      <td>135</td>\n",
       "      <td>234</td>\n",
       "      <td>9</td>\n",
       "      <td>0</td>\n",
       "      <td>...</td>\n",
       "      <td>1</td>\n",
       "      <td>0</td>\n",
       "      <td>0</td>\n",
       "      <td>0</td>\n",
       "      <td>1</td>\n",
       "      <td>0</td>\n",
       "      <td>0</td>\n",
       "      <td>0</td>\n",
       "      <td>0</td>\n",
       "      <td>1</td>\n",
       "    </tr>\n",
       "    <tr>\n",
       "      <th>1</th>\n",
       "      <td>2785</td>\n",
       "      <td>6211</td>\n",
       "      <td>242</td>\n",
       "      <td>118</td>\n",
       "      <td>155</td>\n",
       "      <td>238</td>\n",
       "      <td>122</td>\n",
       "      <td>238</td>\n",
       "      <td>18</td>\n",
       "      <td>0</td>\n",
       "      <td>...</td>\n",
       "      <td>0</td>\n",
       "      <td>0</td>\n",
       "      <td>0</td>\n",
       "      <td>0</td>\n",
       "      <td>1</td>\n",
       "      <td>0</td>\n",
       "      <td>0</td>\n",
       "      <td>1</td>\n",
       "      <td>0</td>\n",
       "      <td>1</td>\n",
       "    </tr>\n",
       "    <tr>\n",
       "      <th>2</th>\n",
       "      <td>2579</td>\n",
       "      <td>6031</td>\n",
       "      <td>300</td>\n",
       "      <td>-15</td>\n",
       "      <td>132</td>\n",
       "      <td>237</td>\n",
       "      <td>140</td>\n",
       "      <td>230</td>\n",
       "      <td>6</td>\n",
       "      <td>0</td>\n",
       "      <td>...</td>\n",
       "      <td>0</td>\n",
       "      <td>0</td>\n",
       "      <td>0</td>\n",
       "      <td>1</td>\n",
       "      <td>1</td>\n",
       "      <td>0</td>\n",
       "      <td>0</td>\n",
       "      <td>0</td>\n",
       "      <td>0</td>\n",
       "      <td>1</td>\n",
       "    </tr>\n",
       "    <tr>\n",
       "      <th>3</th>\n",
       "      <td>2886</td>\n",
       "      <td>4051</td>\n",
       "      <td>371</td>\n",
       "      <td>26</td>\n",
       "      <td>151</td>\n",
       "      <td>240</td>\n",
       "      <td>136</td>\n",
       "      <td>234</td>\n",
       "      <td>11</td>\n",
       "      <td>0</td>\n",
       "      <td>...</td>\n",
       "      <td>0</td>\n",
       "      <td>0</td>\n",
       "      <td>0</td>\n",
       "      <td>0</td>\n",
       "      <td>1</td>\n",
       "      <td>0</td>\n",
       "      <td>0</td>\n",
       "      <td>1</td>\n",
       "      <td>0</td>\n",
       "      <td>1</td>\n",
       "    </tr>\n",
       "    <tr>\n",
       "      <th>4</th>\n",
       "      <td>2742</td>\n",
       "      <td>6091</td>\n",
       "      <td>150</td>\n",
       "      <td>69</td>\n",
       "      <td>134</td>\n",
       "      <td>224</td>\n",
       "      <td>92</td>\n",
       "      <td>248</td>\n",
       "      <td>22</td>\n",
       "      <td>0</td>\n",
       "      <td>...</td>\n",
       "      <td>0</td>\n",
       "      <td>0</td>\n",
       "      <td>0</td>\n",
       "      <td>0</td>\n",
       "      <td>1</td>\n",
       "      <td>0</td>\n",
       "      <td>0</td>\n",
       "      <td>1</td>\n",
       "      <td>0</td>\n",
       "      <td>1</td>\n",
       "    </tr>\n",
       "  </tbody>\n",
       "</table>\n",
       "<p>5 rows × 21 columns</p>\n",
       "</div>"
      ],
      "text/plain": [
       "   Elevation  Horizontal_Distance_To_Fire_Points  \\\n",
       "0       2804                                6121   \n",
       "1       2785                                6211   \n",
       "2       2579                                6031   \n",
       "3       2886                                4051   \n",
       "4       2742                                6091   \n",
       "\n",
       "   Horizontal_Distance_To_Hydrology  Vertical_Distance_To_Hydrology  Aspect  \\\n",
       "0                               268                              65     139   \n",
       "1                               242                             118     155   \n",
       "2                               300                             -15     132   \n",
       "3                               371                              26     151   \n",
       "4                               150                              69     134   \n",
       "\n",
       "   Hillshade_Noon  Hillshade_3pm  Hillshade_9am  Slope  Soil_Type21  ...  \\\n",
       "0             238            135            234      9            0  ...   \n",
       "1             238            122            238     18            0  ...   \n",
       "2             237            140            230      6            0  ...   \n",
       "3             240            136            234     11            0  ...   \n",
       "4             224             92            248     22            0  ...   \n",
       "\n",
       "   Soil_Type11  Soil_Type38  Soil_Type37  Soil_Type28  Wilderness_Area0  \\\n",
       "0            1            0            0            0                 1   \n",
       "1            0            0            0            0                 1   \n",
       "2            0            0            0            1                 1   \n",
       "3            0            0            0            0                 1   \n",
       "4            0            0            0            0                 1   \n",
       "\n",
       "   Wilderness_Area2  Soil_Type39  Soil_Type29  Soil_Type31  Label  \n",
       "0                 0            0            0            0      1  \n",
       "1                 0            0            1            0      1  \n",
       "2                 0            0            0            0      1  \n",
       "3                 0            0            1            0      1  \n",
       "4                 0            0            1            0      1  \n",
       "\n",
       "[5 rows x 21 columns]"
      ]
     },
     "execution_count": 70,
     "metadata": {},
     "output_type": "execute_result"
    }
   ],
   "source": [
    "# create new df\n",
    "df_simple = df[best_features]\n",
    "df_simple[\"Label\"] = df[\"Label\"]\n",
    "df_simple.head()"
   ]
  },
  {
   "cell_type": "markdown",
   "metadata": {},
   "source": [
    "Let's re-split and re-train our random forest"
   ]
  },
  {
   "cell_type": "code",
   "execution_count": 73,
   "metadata": {},
   "outputs": [],
   "source": [
    "# Use train_test_split to divide the dataset into 80-20 training and testing sets.\n",
    "X_train, X_test, y_train, y_test = train_test_split(df_simple.drop([\"Label\"], axis=1), df_simple[\"Label\"], \n",
    "                                                    test_size = 0.20, random_state = 42)"
   ]
  },
  {
   "cell_type": "code",
   "execution_count": 74,
   "metadata": {},
   "outputs": [
    {
     "name": "stdout",
     "output_type": "stream",
     "text": [
      "Simplified Random Forest accuracy: 93.85%\n"
     ]
    }
   ],
   "source": [
    "# Instantiate model with all default RF classifier settings\n",
    "rf_clf = RandomForestClassifier( random_state = 42)\n",
    "# Train the model on training data\n",
    "rf_clf.fit(X_train, y_train)\n",
    "# performing predictions on the test dataset\n",
    "y_pred = rf_clf.predict(X_test)\n",
    "# using metrics module for accuracy calculation\n",
    "accuracy = metrics.accuracy_score(y_test, y_pred)\n",
    "print(\"Simplified Random Forest accuracy: %.2f%%\" % (accuracy * 100.0))"
   ]
  },
  {
   "cell_type": "markdown",
   "metadata": {},
   "source": [
    "We not only gained in performance time, but also in performance accuracy!"
   ]
  },
  {
   "cell_type": "code",
   "execution_count": 77,
   "metadata": {},
   "outputs": [
    {
     "data": {
      "image/png": "[encoded data removed]",
      "text/plain": [
       "<Figure size 432x288 with 2 Axes>"
      ]
     },
     "metadata": {
      "needs_background": "light"
     },
     "output_type": "display_data"
    }
   ],
   "source": [
    "# Let's plot a confusion matrix to see what we predicting best\n",
    "plot_confusion_matrix(rf_clf, X_test, y_test)  \n",
    "plt.show()"
   ]
  }
 ],
 "metadata": {
  "kernelspec": {
   "display_name": "Python 3",
   "language": "python",
   "name": "python3"
  },
  "language_info": {
   "codemirror_mode": {
    "name": "ipython",
    "version": 3
   },
   "file_extension": ".py",
   "mimetype": "text/x-python",
   "name": "python",
   "nbconvert_exporter": "python",
   "pygments_lexer": "ipython3",
   "version": "3.8.3"
  }
 },
 "nbformat": 4,
 "nbformat_minor": 4
}
